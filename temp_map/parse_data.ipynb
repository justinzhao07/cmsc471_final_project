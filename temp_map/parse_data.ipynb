{
 "cells": [
  {
   "cell_type": "code",
   "execution_count": null,
   "metadata": {
    "vscode": {
     "languageId": "plaintext"
    }
   },
   "outputs": [],
   "source": [
    "import pandas as pd\n",
    "file_path = \"Environment_Temperature_change_E_All_Data.csv\"\n",
    "df = pd.read_csv(file_path)\n",
    "\n",
    "temp_change_df = df[df['Element'] == 'Temperature change'].copy()\n",
    "\n",
    "# Keep only the Area and year columns\n",
    "year_columns = [col for col in df.columns if col.startswith('Y') and not col.endswith('F')]\n",
    "temp_change_df = temp_change_df[['Area'] + year_columns]\n",
    "\n",
    "# Group by Area and average across months for each year\n",
    "avg_temp_change = temp_change_df.groupby('Area').mean(numeric_only=True)\n",
    "\n",
    "# Convert to a dictionary for use in D3\n",
    "temp_change_dict = avg_temp_change.round(3).to_dict(orient='index')"
   ]
  }
 ],
 "metadata": {
  "language_info": {
   "name": "python"
  }
 },
 "nbformat": 4,
 "nbformat_minor": 2
}
